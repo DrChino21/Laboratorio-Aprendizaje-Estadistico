{
 "cells": [
  {
   "cell_type": "markdown",
   "id": "91cd3c4e20185801",
   "metadata": {},
   "source": [
    "# Actividad de práctica parcial 2\n",
    "\n",
    "- Utiliza el dataset `Brain Tumor`, modela con SVC y haz Cross-Validation con kernel 'linear'\n",
    "- Modela con Optimización Bayesiana ().\n",
    "- El método de Cross-Validation es K-Folds con $k=10$.\n",
    "- Utiliza el AUC como métrico de Cross-Validation.\n",
    "- Compara resultados."
   ]
  },
  {
   "cell_type": "code",
   "execution_count": 2,
   "id": "39b1617c35b2de1c",
   "metadata": {
    "ExecuteTime": {
     "end_time": "2025-10-27T23:34:38.316607Z",
     "start_time": "2025-10-27T23:34:38.029925Z"
    }
   },
   "outputs": [],
   "source": [
    "# Librerias\n",
    "import pandas as pd\n",
    "from sklearn.model_selection import StratifiedKFold, cross_val_score\n",
    "from sklearn.preprocessing import OneHotEncoder\n",
    "from sklearn.compose import ColumnTransformer\n",
    "from sklearn.pipeline import Pipeline\n",
    "from sklearn.svm import SVC\n",
    "from sklearn.metrics import roc_auc_score, make_scorer\n",
    "from sklearn.preprocessing import StandardScaler"
   ]
  },
  {
   "cell_type": "code",
   "execution_count": 5,
   "id": "initial_id",
   "metadata": {
    "ExecuteTime": {
     "end_time": "2025-10-27T23:34:40.077372Z",
     "start_time": "2025-10-27T23:34:40.026005Z"
    },
    "collapsed": true
   },
   "outputs": [
    {
     "data": {
      "text/html": [
       "<div>\n",
       "<style scoped>\n",
       "    .dataframe tbody tr th:only-of-type {\n",
       "        vertical-align: middle;\n",
       "    }\n",
       "\n",
       "    .dataframe tbody tr th {\n",
       "        vertical-align: top;\n",
       "    }\n",
       "\n",
       "    .dataframe thead th {\n",
       "        text-align: right;\n",
       "    }\n",
       "</style>\n",
       "<table border=\"1\" class=\"dataframe\">\n",
       "  <thead>\n",
       "    <tr style=\"text-align: right;\">\n",
       "      <th></th>\n",
       "      <th>Patient_ID</th>\n",
       "      <th>Age</th>\n",
       "      <th>Gender</th>\n",
       "      <th>Tumor_Type</th>\n",
       "      <th>Tumor_Size</th>\n",
       "      <th>Location</th>\n",
       "      <th>Histology</th>\n",
       "      <th>Stage</th>\n",
       "      <th>Symptom_1</th>\n",
       "      <th>Symptom_2</th>\n",
       "      <th>Symptom_3</th>\n",
       "      <th>Radiation_Treatment</th>\n",
       "      <th>Surgery_Performed</th>\n",
       "      <th>Chemotherapy</th>\n",
       "      <th>Survival_Rate</th>\n",
       "      <th>Tumor_Growth_Rate</th>\n",
       "      <th>Family_History</th>\n",
       "      <th>MRI_Result</th>\n",
       "      <th>Follow_Up_Required</th>\n",
       "    </tr>\n",
       "  </thead>\n",
       "  <tbody>\n",
       "    <tr>\n",
       "      <th>0</th>\n",
       "      <td>1</td>\n",
       "      <td>73</td>\n",
       "      <td>Male</td>\n",
       "      <td>Malignant</td>\n",
       "      <td>5.375612</td>\n",
       "      <td>Temporal</td>\n",
       "      <td>Astrocytoma</td>\n",
       "      <td>III</td>\n",
       "      <td>Vision Issues</td>\n",
       "      <td>Seizures</td>\n",
       "      <td>Seizures</td>\n",
       "      <td>No</td>\n",
       "      <td>No</td>\n",
       "      <td>No</td>\n",
       "      <td>51.312579</td>\n",
       "      <td>0.111876</td>\n",
       "      <td>No</td>\n",
       "      <td>Positive</td>\n",
       "      <td>Yes</td>\n",
       "    </tr>\n",
       "    <tr>\n",
       "      <th>1</th>\n",
       "      <td>2</td>\n",
       "      <td>26</td>\n",
       "      <td>Male</td>\n",
       "      <td>Benign</td>\n",
       "      <td>4.847098</td>\n",
       "      <td>Parietal</td>\n",
       "      <td>Glioblastoma</td>\n",
       "      <td>II</td>\n",
       "      <td>Headache</td>\n",
       "      <td>Headache</td>\n",
       "      <td>Nausea</td>\n",
       "      <td>Yes</td>\n",
       "      <td>Yes</td>\n",
       "      <td>Yes</td>\n",
       "      <td>46.373273</td>\n",
       "      <td>2.165736</td>\n",
       "      <td>Yes</td>\n",
       "      <td>Positive</td>\n",
       "      <td>Yes</td>\n",
       "    </tr>\n",
       "    <tr>\n",
       "      <th>2</th>\n",
       "      <td>3</td>\n",
       "      <td>31</td>\n",
       "      <td>Male</td>\n",
       "      <td>Benign</td>\n",
       "      <td>5.588391</td>\n",
       "      <td>Parietal</td>\n",
       "      <td>Meningioma</td>\n",
       "      <td>I</td>\n",
       "      <td>Vision Issues</td>\n",
       "      <td>Headache</td>\n",
       "      <td>Seizures</td>\n",
       "      <td>No</td>\n",
       "      <td>No</td>\n",
       "      <td>No</td>\n",
       "      <td>47.072221</td>\n",
       "      <td>1.884228</td>\n",
       "      <td>No</td>\n",
       "      <td>Negative</td>\n",
       "      <td>No</td>\n",
       "    </tr>\n",
       "    <tr>\n",
       "      <th>3</th>\n",
       "      <td>4</td>\n",
       "      <td>29</td>\n",
       "      <td>Male</td>\n",
       "      <td>Malignant</td>\n",
       "      <td>1.436600</td>\n",
       "      <td>Temporal</td>\n",
       "      <td>Medulloblastoma</td>\n",
       "      <td>IV</td>\n",
       "      <td>Vision Issues</td>\n",
       "      <td>Seizures</td>\n",
       "      <td>Headache</td>\n",
       "      <td>Yes</td>\n",
       "      <td>No</td>\n",
       "      <td>Yes</td>\n",
       "      <td>51.853634</td>\n",
       "      <td>1.283342</td>\n",
       "      <td>Yes</td>\n",
       "      <td>Negative</td>\n",
       "      <td>No</td>\n",
       "    </tr>\n",
       "    <tr>\n",
       "      <th>4</th>\n",
       "      <td>5</td>\n",
       "      <td>54</td>\n",
       "      <td>Female</td>\n",
       "      <td>Benign</td>\n",
       "      <td>2.417506</td>\n",
       "      <td>Parietal</td>\n",
       "      <td>Glioblastoma</td>\n",
       "      <td>I</td>\n",
       "      <td>Headache</td>\n",
       "      <td>Headache</td>\n",
       "      <td>Seizures</td>\n",
       "      <td>No</td>\n",
       "      <td>No</td>\n",
       "      <td>Yes</td>\n",
       "      <td>54.708987</td>\n",
       "      <td>2.069477</td>\n",
       "      <td>No</td>\n",
       "      <td>Positive</td>\n",
       "      <td>Yes</td>\n",
       "    </tr>\n",
       "  </tbody>\n",
       "</table>\n",
       "</div>"
      ],
      "text/plain": [
       "   Patient_ID  Age  Gender Tumor_Type  Tumor_Size  Location        Histology  \\\n",
       "0           1   73    Male  Malignant    5.375612  Temporal      Astrocytoma   \n",
       "1           2   26    Male     Benign    4.847098  Parietal     Glioblastoma   \n",
       "2           3   31    Male     Benign    5.588391  Parietal       Meningioma   \n",
       "3           4   29    Male  Malignant    1.436600  Temporal  Medulloblastoma   \n",
       "4           5   54  Female     Benign    2.417506  Parietal     Glioblastoma   \n",
       "\n",
       "  Stage      Symptom_1 Symptom_2 Symptom_3 Radiation_Treatment  \\\n",
       "0   III  Vision Issues  Seizures  Seizures                  No   \n",
       "1    II       Headache  Headache    Nausea                 Yes   \n",
       "2     I  Vision Issues  Headache  Seizures                  No   \n",
       "3    IV  Vision Issues  Seizures  Headache                 Yes   \n",
       "4     I       Headache  Headache  Seizures                  No   \n",
       "\n",
       "  Surgery_Performed Chemotherapy  Survival_Rate  Tumor_Growth_Rate  \\\n",
       "0                No           No      51.312579           0.111876   \n",
       "1               Yes          Yes      46.373273           2.165736   \n",
       "2                No           No      47.072221           1.884228   \n",
       "3                No          Yes      51.853634           1.283342   \n",
       "4                No          Yes      54.708987           2.069477   \n",
       "\n",
       "  Family_History MRI_Result Follow_Up_Required  \n",
       "0             No   Positive                Yes  \n",
       "1            Yes   Positive                Yes  \n",
       "2             No   Negative                 No  \n",
       "3            Yes   Negative                 No  \n",
       "4             No   Positive                Yes  "
      ]
     },
     "execution_count": 5,
     "metadata": {},
     "output_type": "execute_result"
    }
   ],
   "source": [
    "# Cargar datos\n",
    "data = pd.read_csv('brain_tumor_dataset.csv')\n",
    "data.head()"
   ]
  },
  {
   "cell_type": "code",
   "execution_count": 7,
   "id": "1b6d8d0e36535a30",
   "metadata": {
    "ExecuteTime": {
     "end_time": "2025-10-27T23:34:41.843585Z",
     "start_time": "2025-10-27T23:34:41.836164Z"
    }
   },
   "outputs": [
    {
     "name": "stdout",
     "output_type": "stream",
     "text": [
      "<class 'pandas.core.frame.DataFrame'>\n",
      "RangeIndex: 20000 entries, 0 to 19999\n",
      "Data columns (total 19 columns):\n",
      " #   Column               Non-Null Count  Dtype  \n",
      "---  ------               --------------  -----  \n",
      " 0   Patient_ID           20000 non-null  int64  \n",
      " 1   Age                  20000 non-null  int64  \n",
      " 2   Gender               20000 non-null  object \n",
      " 3   Tumor_Type           20000 non-null  object \n",
      " 4   Tumor_Size           20000 non-null  float64\n",
      " 5   Location             20000 non-null  object \n",
      " 6   Histology            20000 non-null  object \n",
      " 7   Stage                20000 non-null  object \n",
      " 8   Symptom_1            20000 non-null  object \n",
      " 9   Symptom_2            20000 non-null  object \n",
      " 10  Symptom_3            20000 non-null  object \n",
      " 11  Radiation_Treatment  20000 non-null  object \n",
      " 12  Surgery_Performed    20000 non-null  object \n",
      " 13  Chemotherapy         20000 non-null  object \n",
      " 14  Survival_Rate        20000 non-null  float64\n",
      " 15  Tumor_Growth_Rate    20000 non-null  float64\n",
      " 16  Family_History       20000 non-null  object \n",
      " 17  MRI_Result           20000 non-null  object \n",
      " 18  Follow_Up_Required   20000 non-null  object \n",
      "dtypes: float64(3), int64(2), object(14)\n",
      "memory usage: 2.9+ MB\n"
     ]
    }
   ],
   "source": [
    "data.info()"
   ]
  },
  {
   "cell_type": "code",
   "execution_count": 8,
   "id": "3478ff6d00c6cafc",
   "metadata": {
    "ExecuteTime": {
     "end_time": "2025-10-27T23:34:43.091497Z",
     "start_time": "2025-10-27T23:34:43.087043Z"
    }
   },
   "outputs": [],
   "source": [
    "# Definir variables predictoras y objetivo\n",
    "y = data['Tumor_Type']\n",
    "X = data.drop(columns=['Tumor_Type'])"
   ]
  },
  {
   "cell_type": "code",
   "execution_count": 9,
   "id": "6eba6da4cd576fc1",
   "metadata": {
    "ExecuteTime": {
     "end_time": "2025-10-27T23:34:45.536685Z",
     "start_time": "2025-10-27T23:34:45.532275Z"
    }
   },
   "outputs": [],
   "source": [
    "# Identificar variables numéricas y categóricas\n",
    "num_features = X.select_dtypes(include=['int64', 'float64']).columns.tolist()\n",
    "cat_features = X.select_dtypes(include=['object']).columns.tolist()\n",
    "\n",
    "# Preprocesamiento: One-Hot Encoding para categóricas y escalado para numéricas\n",
    "numerical_transformer = StandardScaler()\n",
    "preprocess = ColumnTransformer(\n",
    "    transformers=[\n",
    "        ('cat', OneHotEncoder(handle_unknown='ignore'), cat_features),\n",
    "        ('num', numerical_transformer, num_features)\n",
    "    ]\n",
    ")"
   ]
  },
  {
   "cell_type": "code",
   "execution_count": 10,
   "id": "44b916e65cab97c7",
   "metadata": {
    "ExecuteTime": {
     "end_time": "2025-10-27T23:34:46.367747Z",
     "start_time": "2025-10-27T23:34:46.365962Z"
    }
   },
   "outputs": [],
   "source": [
    "# Modelado con SVC y kernel 'linear'\n",
    "SVC_model = SVC(kernel='linear', probability=True, random_state=42)\n",
    "\n",
    "pipeline = Pipeline(steps=[\n",
    "    ('preprocessor', preprocess),\n",
    "    ('SVC', SVC_model)\n",
    "])"
   ]
  },
  {
   "cell_type": "code",
   "execution_count": 11,
   "id": "9d53191b0b01f8f2",
   "metadata": {
    "ExecuteTime": {
     "end_time": "2025-10-27T23:40:17.587998Z",
     "start_time": "2025-10-27T23:35:23.826191Z"
    }
   },
   "outputs": [
    {
     "name": "stderr",
     "output_type": "stream",
     "text": [
      "c:\\Users\\chino\\anaconda3\\Lib\\site-packages\\sklearn\\metrics\\_scorer.py:610: FutureWarning: The `needs_threshold` and `needs_proba` parameter are deprecated in version 1.4 and will be removed in 1.6. You can either let `response_method` be `None` or set it to `predict` to preserve the same behaviour.\n",
      "  warnings.warn(\n"
     ]
    },
    {
     "name": "stdout",
     "output_type": "stream",
     "text": [
      "AUC por fold: [0.5114271  0.51744366 0.50099351 0.50531355 0.50830257 0.5\n",
      " 0.50542555 0.50214952 0.49549096 0.5       ]\n",
      "AUC promedio: 0.504654641891777\n"
     ]
    }
   ],
   "source": [
    "# Cross-validation estratificada y AUC\n",
    "cv = StratifiedKFold(n_splits=10, shuffle=True, random_state=42)\n",
    "\n",
    "auc = make_scorer(roc_auc_score, needs_proba=True, greater_is_better=True)\n",
    "\n",
    "# Probar\n",
    "scores = cross_val_score(pipeline, X, y, scoring=auc, cv=cv, n_jobs=-1)\n",
    "\n",
    "print(\"AUC por fold:\", scores)\n",
    "print(\"AUC promedio:\", scores.mean())"
   ]
  },
  {
   "cell_type": "code",
   "execution_count": 12,
   "id": "d4f976cdad24c3a6",
   "metadata": {
    "ExecuteTime": {
     "end_time": "2025-10-27T23:40:37.313542Z",
     "start_time": "2025-10-27T23:40:37.310574Z"
    }
   },
   "outputs": [],
   "source": [
    "# Definir función objetivo\n",
    "def obj(logC):\n",
    "    C = 10**logC\n",
    "    SVC_model = SVC(kernel='linear', probability=True, random_state=42, C=C)\n",
    "    pipeline = Pipeline(steps=[\n",
    "    ('preprocessor', preprocess),\n",
    "    ('SVC', SVC_model)\n",
    "])\n",
    "    scores = cross_val_score(pipeline, X, y, scoring=auc, cv=cv, n_jobs=-1)\n",
    "    return scores.mean()\n"
   ]
  },
  {
   "cell_type": "code",
   "execution_count": null,
   "id": "5307cb95e34d07a9",
   "metadata": {
    "ExecuteTime": {
     "end_time": "2025-10-27T23:40:40.094693Z",
     "start_time": "2025-10-27T23:40:38.832089Z"
    }
   },
   "outputs": [
    {
     "name": "stdout",
     "output_type": "stream",
     "text": [
      "Collecting bayesian_optimization\r\n",
      "  Downloading bayesian_optimization-3.1.0-py3-none-any.whl.metadata (11 kB)\r\n",
      "Requirement already satisfied: colorama>=0.4.6 in /opt/anaconda3/lib/python3.12/site-packages (from bayesian_optimization) (0.4.6)\r\n",
      "Requirement already satisfied: numpy>=1.25 in /opt/anaconda3/lib/python3.12/site-packages (from bayesian_optimization) (1.26.4)\r\n",
      "Requirement already satisfied: scikit-learn>=1.0.0 in /opt/anaconda3/lib/python3.12/site-packages (from bayesian_optimization) (1.5.1)\r\n",
      "Requirement already satisfied: scipy>=1.0.0 in /opt/anaconda3/lib/python3.12/site-packages (from bayesian_optimization) (1.13.1)\r\n",
      "Requirement already satisfied: joblib>=1.2.0 in /opt/anaconda3/lib/python3.12/site-packages (from scikit-learn>=1.0.0->bayesian_optimization) (1.4.2)\r\n",
      "Requirement already satisfied: threadpoolctl>=3.1.0 in /opt/anaconda3/lib/python3.12/site-packages (from scikit-learn>=1.0.0->bayesian_optimization) (3.5.0)\r\n",
      "Downloading bayesian_optimization-3.1.0-py3-none-any.whl (36 kB)\r\n",
      "Installing collected packages: bayesian_optimization\r\n",
      "Successfully installed bayesian_optimization-3.1.0\r\n",
      "Note: you may need to restart the kernel to use updated packages.\n"
     ]
    }
   ],
   "source": [
    "#%pip install bayesian_optimization"
   ]
  },
  {
   "cell_type": "code",
   "execution_count": null,
   "id": "db690871ce605e5a",
   "metadata": {},
   "outputs": [],
   "source": []
  }
 ],
 "metadata": {
  "kernelspec": {
   "display_name": "base",
   "language": "python",
   "name": "python3"
  },
  "language_info": {
   "codemirror_mode": {
    "name": "ipython",
    "version": 3
   },
   "file_extension": ".py",
   "mimetype": "text/x-python",
   "name": "python",
   "nbconvert_exporter": "python",
   "pygments_lexer": "ipython3",
   "version": "3.12.7"
  }
 },
 "nbformat": 4,
 "nbformat_minor": 5
}
