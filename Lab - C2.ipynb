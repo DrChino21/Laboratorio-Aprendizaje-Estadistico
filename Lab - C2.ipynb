{
 "cells": [
  {
   "cell_type": "markdown",
   "id": "c191c972-2c85-4284-a555-7db618ba5b26",
   "metadata": {},
   "source": [
    "# Laboratorio de regresión logística"
   ]
  },
  {
   "cell_type": "markdown",
   "id": "e11c177c-1848-44b0-8c6b-b35537b5ae2f",
   "metadata": {},
   "source": [
    "|                |   |\n",
    ":----------------|---|\n",
    "| **Nombre**     | André Esteban Vera  |\n",
    "| **Fecha**      |  12/10/2025 |\n",
    "| **Expediente** | 745232  | "
   ]
  },
  {
   "cell_type": "markdown",
   "id": "4b95344a-b10c-465d-a5f4-bfa65905420c",
   "metadata": {},
   "source": [
    "In machine learning, Support Vector Machines (SVM) are supervised learning models with associated learning algorithms that analyze data used for classification and regression analysis. It is mostly used in classification problems. In this algorithm, each data item is plotted as a point in p-dimensional space (where p is the number of features), with the value of each feature being the value of a particular coordinate. Then, classification is performed by finding the hyper-plane that best differentiates the two classes (or more if we have a multi class problem):\n",
    "\n",
    "$$ f(x) = w^T \\varphi(x) + b $$\n",
    "\n",
    "where $\\varphi: X \\rightarrow F $ is a function that makes each input point $x$ correspond to a point in F, where F is a Hilbert space.\n",
    "\n",
    "In addition to performing linear classification, SVMs can efficiently perform a non-linear classification, implicitly mapping their inputs into high-dimensional feature spaces (more specifically using the kernel trick, like the RBF funcion). \n",
    "\n",
    "[1]\n",
    "\n",
    "OLS utilizes the squared residuals to fit the parameters. Large residuals caused by outliers may worsen the accuracy significantly.\n",
    "\n",
    "Support Vectors use piecewise linear functions to counter this, in which a hyperparameter  $\\epsilon$ called the margin lets errors that are less or equal to it be 0, and error larger than it be $e - \\epsilon$. \n",
    "\n",
    "The problem to solve is:\n",
    "\n",
    "\\begin{split}\n",
    "        \\min_{w, b, \\xi, \\xi^*} \\mathcal{P}_\\epsilon(w, b, \\xi) &= \\frac{1}{2} w^T w + c \\sum_{k=1}^{N} \\xi_k \\\\\n",
    "        \\text{s.t. } & y_k [w^T \\varphi(x_k) - b] \\geq 1- \\xi_k,\\ \\ k = 1, ..., N \\\\\n",
    "        & \\xi_k \\geq 0,\\ \\ k = 1, ..., N\n",
    "\\end{split}\n",
    "\n",
    "\n",
    "The most important question that arises when using a SVM is how to choose the correct hyperplane. Consider the following scenarios:"
   ]
  },
  {
   "cell_type": "markdown",
   "id": "ffd4c629-c547-433d-90ff-852a1e722a95",
   "metadata": {},
   "source": [
    "### Scenario 1\n",
    "\n",
    "In this scenario there are three hyperplanes called A, B, and C. Now, the problem is to identify the hyperplane which best differentiates the stars and the circles.\n",
    "\n",
    "<center><img src=\"https://media.geeksforgeeks.org/wp-content/uploads/SVM_21-2.png\" alt=\"what image shows\"></center>\n",
    "\n",
    "In this case, hyperplane B separates the stars and the circle betters, hence it is the correct hyperplane.\n"
   ]
  },
  {
   "cell_type": "markdown",
   "id": "3d158b5b-99f1-435a-9b91-0d8a17363bce",
   "metadata": {},
   "source": [
    "### Scenario 2\n",
    "\n",
    "Now take another scenario where all three hyperplanes are segregating classes well. The question that arises is how to choose the best hyperplane in this situation.\n",
    "\n",
    "<center><img src=\"https://media.geeksforgeeks.org/wp-content/uploads/SVM_4-2.png\" alt=\"what image shows\"></center>\n",
    "\n",
    "In such scenarios, we calculate the margin (which is the distance between nearest data point and the hyperplane). The hyperplane with the largest margin will be considered as the correct hyperplane to classify the dataset.\n",
    "\n",
    "Here C has the largest margin. Hence, it is considered as the best hyperplane.\n"
   ]
  },
  {
   "cell_type": "markdown",
   "id": "d4ae4b6d-e3fe-4496-8f7a-242697fb058e",
   "metadata": {},
   "source": [
    "### Kernels\n",
    "Knowing \n",
    "$$ w = \\sum_{k=1}^{N} \\alpha_k y_k \\varphi(x_k) $$\n",
    "\n",
    "And\n",
    "$$ y_{pred} = w^T \\varphi(x) + b $$\n",
    "\n",
    "Then \n",
    "$$ y_{pred} = (\\sum_{k=1}^{N} \\alpha_k y_k \\varphi(x_k))^T \\varphi(x) + b $$\n",
    "\n",
    "Where $\\varphi$ is a function that makes each input in $x$ correspond to a point in $F$ (a Hilbert space). This can be seen as processing and transforming the input featuers to keep the model's convexity. [2]\n",
    "\n",
    "This also allows us to transform the inputs into another space where they might be more easily classified.\n",
    "\n",
    "<center><img src=https://miro.medium.com/max/838/1*gXvhD4IomaC9Jb37tzDUVg.png alt=\"what image shows\"></center>"
   ]
  },
  {
   "cell_type": "markdown",
   "id": "d8cdd455-cb0d-477c-84a8-326453792426",
   "metadata": {},
   "source": [
    "## ROC and AUC\n",
    "\n",
    "A ROC (Receiver Operating Characteristic) is a graph that shows how the classification model performs at the classification thresholds. \n",
    "\n",
    "ROC curves typically feature true positive rate on the Y axis, and false positive rate on the X axis. This means that the top left corner of the plot is the “ideal” point - a false positive rate of zero, and a true positive rate of one. This is not very realistic, but it does mean that a larger area under the curve (AUC) is usually better. [3]\n",
    "\n",
    "True Positive Rate is a synonym for Recall and defined as:\n",
    "$$ TPR = \\frac{TP}{TP + FN} $$\n",
    "\n",
    "False Positive Rate is a synonym for Specificity and defined as:\n",
    "\n",
    "$$ FPR = \\frac{FP}{FP + TN} $$\n",
    "\n",
    "ROC curves are typically used in binary classification to study the output of a classifier. In order to extend ROC curve and ROC area to multi-label classification, it is necessary to binarize the output. One ROC curve can be drawn per label, but one can also draw a ROC curve by considering each element of the label indicator matrix as a binary prediction (micro-averaging).\n",
    "\n",
    "E.g. If you lower a classification threshold, more items would be classified as positive, increasing False Positives and True Positives.\n",
    "\n",
    "AUC stands for Area under the ROC."
   ]
  },
  {
   "cell_type": "markdown",
   "id": "5282e4af",
   "metadata": {},
   "source": [
    "Medidas:\n",
    "\n",
    "- Accuracy: Proporción de predicciones correctas (tanto verdaderos positivos como verdaderos negativos) con respecto al total de predicciones realizadas.\n",
    "\n",
    "- Precision: Mide qué proporción de los ejemplos que el modelo predijo como positivos realmente lo son.\n",
    "\n",
    "- Recall: Mide qué proporción de los ejemplos positivos reales fueron correctamente identificados por el modelo\n",
    "\n",
    "- Specificity: Mide qué proporción de los negativos reales fueron correctamente clasificados. "
   ]
  },
  {
   "cell_type": "markdown",
   "id": "3ce8fe3e-dca0-4f66-94c6-18f3545cb865",
   "metadata": {},
   "source": [
    "## Ejercicio 1"
   ]
  },
  {
   "cell_type": "markdown",
   "id": "ca93403a-dc07-4059-8e97-991e98d8caf4",
   "metadata": {},
   "source": [
    "- Utiliza el dataset `Iris`, modela con SVC y haz Cross-Validation de diferentes kernels ('linear', 'poly', 'rbf', 'sigmoid').\n",
    "- Modela con LogisticRegression.\n",
    "- El método de Cross-Validation es K-Folds con $k=10$.\n",
    "- Utiliza el AUC como métrico de Cross-Validation.\n",
    "- Compara resultados."
   ]
  },
  {
   "cell_type": "code",
   "execution_count": null,
   "id": "dedae7bb-ce63-4f38-aeb1-353c7f579909",
   "metadata": {},
   "outputs": [
    {
     "name": "stdout",
     "output_type": "stream",
     "text": [
      "Conjunto de entrenamiento: (120, 4) (120,)\n",
      "Conjunto de prueba: (30, 4) (30,)\n"
     ]
    }
   ],
   "source": [
    "from sklearn import datasets\n",
    "from sklearn.model_selection import train_test_split\n",
    "\n",
    "# Cargar dataset Iris\n",
    "iris = datasets.load_iris()\n",
    "X = iris.data\n",
    "y = iris.target"
   ]
  },
  {
   "cell_type": "code",
   "execution_count": null,
   "id": "7cf935dc-8d6b-4503-8ba3-90d9d55fef20",
   "metadata": {},
   "outputs": [
    {
     "name": "stderr",
     "output_type": "stream",
     "text": [
      "c:\\Users\\chino\\anaconda3\\Lib\\site-packages\\sklearn\\metrics\\_scorer.py:610: FutureWarning: The `needs_threshold` and `needs_proba` parameter are deprecated in version 1.4 and will be removed in 1.6. You can either let `response_method` be `None` or set it to `predict` to preserve the same behaviour.\n",
      "  warnings.warn(\n"
     ]
    },
    {
     "name": "stdout",
     "output_type": "stream",
     "text": [
      "SVC (linear): Mean AUC = 0.9960, Std = 0.0085\n",
      "SVC (poly): Mean AUC = 0.9960, Std = 0.0085\n",
      "SVC (rbf): Mean AUC = 0.9973, Std = 0.0080\n",
      "SVC (sigmoid): Mean AUC = 0.7467, Std = 0.0490\n"
     ]
    }
   ],
   "source": [
    "from sklearn.model_selection import StratifiedKFold, cross_val_score\n",
    "from sklearn.svm import SVC\n",
    "from sklearn.linear_model import LogisticRegression\n",
    "from sklearn.metrics import make_scorer, roc_auc_score\n",
    "\n",
    "# AUC multiclase como métrica personalizada (Multiclase - 3 clases, )\n",
    "auc_scorer = make_scorer(roc_auc_score, needs_proba=True, multi_class='ovr') # one-vs-rest\n",
    "\n",
    "# Validación cruzada estratificada\n",
    "cv = StratifiedKFold(n_splits=10, shuffle=True, random_state=42)\n",
    "\n",
    "# Kernel linear\n",
    "svc_linear = SVC(kernel='linear', probability=True, random_state=42)\n",
    "scores_linear = cross_val_score(svc_linear, X, y, cv=cv, scoring=auc_scorer)\n",
    "print(f\"SVC (linear): Mean AUC = {scores_linear.mean():.4f}, Std = {scores_linear.std():.4f}\")\n",
    "\n",
    "\n",
    "# Kernel poly\n",
    "svc_poly = SVC(kernel='poly', probability=True, random_state=42)\n",
    "scores_poly = cross_val_score(svc_poly, X, y, cv=cv, scoring=auc_scorer)\n",
    "print(f\"SVC (poly): Mean AUC = {scores_poly.mean():.4f}, Std = {scores_poly.std():.4f}\")\n",
    "\n",
    "\n",
    "# Kernel rbf\n",
    "svc_rbf = SVC(kernel='rbf', probability=True, random_state=42)\n",
    "scores_rbf = cross_val_score(svc_rbf, X, y, cv=cv, scoring=auc_scorer)\n",
    "print(f\"SVC (rbf): Mean AUC = {scores_rbf.mean():.4f}, Std = {scores_rbf.std():.4f}\")\n",
    "\n",
    "# Kernel sigmoid\n",
    "svc_sigmoid = SVC(kernel='sigmoid', probability=True, random_state=42)\n",
    "scores_sigmoid = cross_val_score(svc_sigmoid, X, y, cv=cv, scoring=auc_scorer)\n",
    "print(f\"SVC (sigmoid): Mean AUC = {scores_sigmoid.mean():.4f}, Std = {scores_sigmoid.std():.4f}\")\n"
   ]
  },
  {
   "cell_type": "code",
   "execution_count": 4,
   "id": "70f3396a-82a3-4046-ae16-d88946f8cd00",
   "metadata": {},
   "outputs": [
    {
     "name": "stdout",
     "output_type": "stream",
     "text": [
      "Logistic Regression: Mean AUC = 0.9960, Std = 0.0085\n"
     ]
    }
   ],
   "source": [
    "# Regresión logística\n",
    "logreg = LogisticRegression(max_iter=1000, random_state=42)\n",
    "scores_logreg = cross_val_score(logreg, X, y, cv=cv, scoring=auc_scorer)\n",
    "print(f\"Logistic Regression: Mean AUC = {scores_logreg.mean():.4f}, Std = {scores_logreg.std():.4f}\")\n"
   ]
  },
  {
   "cell_type": "code",
   "execution_count": 5,
   "id": "8ab90491",
   "metadata": {},
   "outputs": [
    {
     "data": {
      "text/html": [
       "<div>\n",
       "<style scoped>\n",
       "    .dataframe tbody tr th:only-of-type {\n",
       "        vertical-align: middle;\n",
       "    }\n",
       "\n",
       "    .dataframe tbody tr th {\n",
       "        vertical-align: top;\n",
       "    }\n",
       "\n",
       "    .dataframe thead th {\n",
       "        text-align: right;\n",
       "    }\n",
       "</style>\n",
       "<table border=\"1\" class=\"dataframe\">\n",
       "  <thead>\n",
       "    <tr style=\"text-align: right;\">\n",
       "      <th></th>\n",
       "      <th>Model</th>\n",
       "      <th>Mean AUC</th>\n",
       "      <th>Std AUC</th>\n",
       "    </tr>\n",
       "  </thead>\n",
       "  <tbody>\n",
       "    <tr>\n",
       "      <th>0</th>\n",
       "      <td>SVC (linear)</td>\n",
       "      <td>0.996000</td>\n",
       "      <td>0.008537</td>\n",
       "    </tr>\n",
       "    <tr>\n",
       "      <th>1</th>\n",
       "      <td>SVC (poly)</td>\n",
       "      <td>0.996000</td>\n",
       "      <td>0.008537</td>\n",
       "    </tr>\n",
       "    <tr>\n",
       "      <th>2</th>\n",
       "      <td>SVC (rbf)</td>\n",
       "      <td>0.997333</td>\n",
       "      <td>0.008000</td>\n",
       "    </tr>\n",
       "    <tr>\n",
       "      <th>3</th>\n",
       "      <td>SVC (sigmoid)</td>\n",
       "      <td>0.746667</td>\n",
       "      <td>0.048990</td>\n",
       "    </tr>\n",
       "    <tr>\n",
       "      <th>4</th>\n",
       "      <td>Logistic Regression</td>\n",
       "      <td>0.996000</td>\n",
       "      <td>0.008537</td>\n",
       "    </tr>\n",
       "  </tbody>\n",
       "</table>\n",
       "</div>"
      ],
      "text/plain": [
       "                 Model  Mean AUC   Std AUC\n",
       "0         SVC (linear)  0.996000  0.008537\n",
       "1           SVC (poly)  0.996000  0.008537\n",
       "2            SVC (rbf)  0.997333  0.008000\n",
       "3        SVC (sigmoid)  0.746667  0.048990\n",
       "4  Logistic Regression  0.996000  0.008537"
      ]
     },
     "execution_count": 5,
     "metadata": {},
     "output_type": "execute_result"
    }
   ],
   "source": [
    "import pandas as pd\n",
    "\n",
    "resultados = pd.DataFrame({\n",
    "    'Model': [\n",
    "        'SVC (linear)', \n",
    "        'SVC (poly)', \n",
    "        'SVC (rbf)', \n",
    "        'SVC (sigmoid)', \n",
    "        'Logistic Regression'\n",
    "    ],\n",
    "    'Mean AUC': [\n",
    "        scores_linear.mean(), \n",
    "        scores_poly.mean(), \n",
    "        scores_rbf.mean(), \n",
    "        scores_sigmoid.mean(), \n",
    "        scores_logreg.mean()\n",
    "    ],\n",
    "    'Std AUC': [\n",
    "        scores_linear.std(), \n",
    "        scores_poly.std(), \n",
    "        scores_rbf.std(), \n",
    "        scores_sigmoid.std(), \n",
    "        scores_logreg.std()\n",
    "    ]\n",
    "})\n",
    "\n",
    "resultados\n"
   ]
  },
  {
   "cell_type": "markdown",
   "id": "e34ad770",
   "metadata": {},
   "source": [
    "### Interpretacion y conclusiones:\n",
    "- SVC (rbf) tiene el mejor rendimiento, aunque las diferencias con linear, poly y LogisticRegression son mínimas.\n",
    "\n",
    "- Logistic Regression se comporta tan bien como los SVCs con linear y poly, lo cual es muy bueno considerando que es más interpretable y más fácil de realizar.\n",
    "\n",
    "- SVC (sigmoid) no es competitivo aquí y debe evitarse sin mayor ajuste."
   ]
  },
  {
   "cell_type": "markdown",
   "id": "c7e26d1b-1bd2-4839-a743-a63f6b258a42",
   "metadata": {},
   "source": [
    "## Ejercicio 2\n",
    "- Repite el ejercicio 1 con el dataset `Default`. Utiliza `default` como target."
   ]
  },
  {
   "cell_type": "code",
   "execution_count": 6,
   "id": "ea0bb2af-09ae-4056-aa6f-f15289ae1f0d",
   "metadata": {},
   "outputs": [
    {
     "data": {
      "text/html": [
       "<div>\n",
       "<style scoped>\n",
       "    .dataframe tbody tr th:only-of-type {\n",
       "        vertical-align: middle;\n",
       "    }\n",
       "\n",
       "    .dataframe tbody tr th {\n",
       "        vertical-align: top;\n",
       "    }\n",
       "\n",
       "    .dataframe thead th {\n",
       "        text-align: right;\n",
       "    }\n",
       "</style>\n",
       "<table border=\"1\" class=\"dataframe\">\n",
       "  <thead>\n",
       "    <tr style=\"text-align: right;\">\n",
       "      <th></th>\n",
       "      <th>default</th>\n",
       "      <th>student</th>\n",
       "      <th>balance</th>\n",
       "      <th>income</th>\n",
       "    </tr>\n",
       "  </thead>\n",
       "  <tbody>\n",
       "    <tr>\n",
       "      <th>0</th>\n",
       "      <td>No</td>\n",
       "      <td>No</td>\n",
       "      <td>729.526495</td>\n",
       "      <td>44361.625074</td>\n",
       "    </tr>\n",
       "    <tr>\n",
       "      <th>1</th>\n",
       "      <td>No</td>\n",
       "      <td>Yes</td>\n",
       "      <td>817.180407</td>\n",
       "      <td>12106.134700</td>\n",
       "    </tr>\n",
       "    <tr>\n",
       "      <th>2</th>\n",
       "      <td>No</td>\n",
       "      <td>No</td>\n",
       "      <td>1073.549164</td>\n",
       "      <td>31767.138950</td>\n",
       "    </tr>\n",
       "    <tr>\n",
       "      <th>3</th>\n",
       "      <td>No</td>\n",
       "      <td>No</td>\n",
       "      <td>529.250605</td>\n",
       "      <td>35704.493940</td>\n",
       "    </tr>\n",
       "    <tr>\n",
       "      <th>4</th>\n",
       "      <td>No</td>\n",
       "      <td>No</td>\n",
       "      <td>785.655883</td>\n",
       "      <td>38463.495880</td>\n",
       "    </tr>\n",
       "  </tbody>\n",
       "</table>\n",
       "</div>"
      ],
      "text/plain": [
       "  default student      balance        income\n",
       "0      No      No   729.526495  44361.625074\n",
       "1      No     Yes   817.180407  12106.134700\n",
       "2      No      No  1073.549164  31767.138950\n",
       "3      No      No   529.250605  35704.493940\n",
       "4      No      No   785.655883  38463.495880"
      ]
     },
     "execution_count": 6,
     "metadata": {},
     "output_type": "execute_result"
    }
   ],
   "source": [
    "import pandas as pd\n",
    "import numpy as np\n",
    "from sklearn.model_selection import StratifiedKFold, cross_val_score\n",
    "from sklearn.preprocessing import LabelEncoder, StandardScaler\n",
    "from sklearn.linear_model import LogisticRegression\n",
    "from sklearn.svm import SVC\n",
    "from sklearn.metrics import make_scorer, roc_auc_score\n",
    "\n",
    "# Cargar el dataset\n",
    "data = pd.read_csv(\"Default.csv\")\n",
    "data.head()\n"
   ]
  },
  {
   "cell_type": "code",
   "execution_count": 8,
   "id": "44c9b2d2-236f-4a1e-b9dc-fabe78fd8332",
   "metadata": {},
   "outputs": [],
   "source": [
    "# Convertir 'default' y 'student' a binaria (Yes/No a 1/0)\n",
    "data['default'] = data['default'].map({'Yes': 1, 'No': 0})\n",
    "\n",
    "data['student'] = data['student'].map({'Yes': 1, 'No': 0})\n",
    "\n",
    "# Separar variables predictoras y target\n",
    "X = data.drop('default', axis=1)\n",
    "y = data['default']\n",
    "\n",
    "# Escalar características numéricas\n",
    "scaler = StandardScaler()\n",
    "X_scaled = scaler.fit_transform(X)"
   ]
  },
  {
   "cell_type": "code",
   "execution_count": 9,
   "id": "0f51dd70-7125-4c3f-a5f3-0f2e56cea8da",
   "metadata": {},
   "outputs": [
    {
     "name": "stderr",
     "output_type": "stream",
     "text": [
      "c:\\Users\\chino\\anaconda3\\Lib\\site-packages\\sklearn\\metrics\\_scorer.py:610: FutureWarning: The `needs_threshold` and `needs_proba` parameter are deprecated in version 1.4 and will be removed in 1.6. You can either let `response_method` be `None` or set it to `predict` to preserve the same behaviour.\n",
      "  warnings.warn(\n"
     ]
    }
   ],
   "source": [
    "# Validación cruzada estratificada\n",
    "cv = StratifiedKFold(n_splits=10, shuffle=True, random_state=42)\n",
    "\n",
    "# Métrica AUC (binario: 2 clases)\n",
    "auc_scorer = make_scorer(roc_auc_score, needs_proba=True) # One-vs-One\n"
   ]
  },
  {
   "cell_type": "code",
   "execution_count": 10,
   "id": "c2f82e36",
   "metadata": {},
   "outputs": [
    {
     "name": "stdout",
     "output_type": "stream",
     "text": [
      "SVC (linear): Mean AUC = 0.9235, Std = 0.0294\n",
      "SVC (poly): Mean AUC = 0.8754, Std = 0.0386\n",
      "SVC (rbf): Mean AUC = 0.8420, Std = 0.0400\n",
      "SVC (sigmoid): Mean AUC = 0.7293, Std = 0.0440\n",
      "Logistic Regression: Mean AUC = 0.9485, Std = 0.0221\n"
     ]
    }
   ],
   "source": [
    "# Kernel linear\n",
    "svc_linear = SVC(kernel='linear', probability=True, random_state=42)\n",
    "scores_linear = cross_val_score(svc_linear, X_scaled, y, cv=cv, scoring=auc_scorer)\n",
    "print(f\"SVC (linear): Mean AUC = {scores_linear.mean():.4f}, Std = {scores_linear.std():.4f}\")\n",
    "\n",
    "# Kernel poly\n",
    "svc_poly = SVC(kernel='poly', probability=True, random_state=42)\n",
    "scores_poly = cross_val_score(svc_poly, X_scaled, y, cv=cv, scoring=auc_scorer)\n",
    "print(f\"SVC (poly): Mean AUC = {scores_poly.mean():.4f}, Std = {scores_poly.std():.4f}\")\n",
    "\n",
    "# Kernel rbf\n",
    "svc_rbf = SVC(kernel='rbf', probability=True, random_state=42)\n",
    "scores_rbf = cross_val_score(svc_rbf, X_scaled, y, cv=cv, scoring=auc_scorer)\n",
    "print(f\"SVC (rbf): Mean AUC = {scores_rbf.mean():.4f}, Std = {scores_rbf.std():.4f}\")\n",
    "\n",
    "# Kernel sigmoid\n",
    "svc_sigmoid = SVC(kernel='sigmoid', probability=True, random_state=42)\n",
    "scores_sigmoid = cross_val_score(svc_sigmoid, X_scaled, y, cv=cv, scoring=auc_scorer)\n",
    "print(f\"SVC (sigmoid): Mean AUC = {scores_sigmoid.mean():.4f}, Std = {scores_sigmoid.std():.4f}\")\n",
    "\n",
    "# Regresión logística\n",
    "logreg = LogisticRegression(max_iter=1000, random_state=42)\n",
    "scores_logreg = cross_val_score(logreg, X_scaled, y, cv=cv, scoring=auc_scorer)\n",
    "print(f\"Logistic Regression: Mean AUC = {scores_logreg.mean():.4f}, Std = {scores_logreg.std():.4f}\")\n",
    "\n"
   ]
  },
  {
   "cell_type": "code",
   "execution_count": 11,
   "id": "546d8d37",
   "metadata": {},
   "outputs": [
    {
     "data": {
      "text/html": [
       "<div>\n",
       "<style scoped>\n",
       "    .dataframe tbody tr th:only-of-type {\n",
       "        vertical-align: middle;\n",
       "    }\n",
       "\n",
       "    .dataframe tbody tr th {\n",
       "        vertical-align: top;\n",
       "    }\n",
       "\n",
       "    .dataframe thead th {\n",
       "        text-align: right;\n",
       "    }\n",
       "</style>\n",
       "<table border=\"1\" class=\"dataframe\">\n",
       "  <thead>\n",
       "    <tr style=\"text-align: right;\">\n",
       "      <th></th>\n",
       "      <th>Model</th>\n",
       "      <th>Mean AUC</th>\n",
       "      <th>Std AUC</th>\n",
       "    </tr>\n",
       "  </thead>\n",
       "  <tbody>\n",
       "    <tr>\n",
       "      <th>0</th>\n",
       "      <td>SVC (linear)</td>\n",
       "      <td>0.923472</td>\n",
       "      <td>0.029396</td>\n",
       "    </tr>\n",
       "    <tr>\n",
       "      <th>1</th>\n",
       "      <td>SVC (poly)</td>\n",
       "      <td>0.875401</td>\n",
       "      <td>0.038620</td>\n",
       "    </tr>\n",
       "    <tr>\n",
       "      <th>2</th>\n",
       "      <td>SVC (rbf)</td>\n",
       "      <td>0.842002</td>\n",
       "      <td>0.039991</td>\n",
       "    </tr>\n",
       "    <tr>\n",
       "      <th>3</th>\n",
       "      <td>SVC (sigmoid)</td>\n",
       "      <td>0.729290</td>\n",
       "      <td>0.044030</td>\n",
       "    </tr>\n",
       "    <tr>\n",
       "      <th>4</th>\n",
       "      <td>Logistic Regression</td>\n",
       "      <td>0.948509</td>\n",
       "      <td>0.022115</td>\n",
       "    </tr>\n",
       "  </tbody>\n",
       "</table>\n",
       "</div>"
      ],
      "text/plain": [
       "                 Model  Mean AUC   Std AUC\n",
       "0         SVC (linear)  0.923472  0.029396\n",
       "1           SVC (poly)  0.875401  0.038620\n",
       "2            SVC (rbf)  0.842002  0.039991\n",
       "3        SVC (sigmoid)  0.729290  0.044030\n",
       "4  Logistic Regression  0.948509  0.022115"
      ]
     },
     "execution_count": 11,
     "metadata": {},
     "output_type": "execute_result"
    }
   ],
   "source": [
    "resultados = pd.DataFrame({\n",
    "    'Model': [\n",
    "        'SVC (linear)', \n",
    "        'SVC (poly)', \n",
    "        'SVC (rbf)', \n",
    "        'SVC (sigmoid)', \n",
    "        'Logistic Regression'\n",
    "    ],\n",
    "    'Mean AUC': [\n",
    "        scores_linear.mean(), \n",
    "        scores_poly.mean(), \n",
    "        scores_rbf.mean(), \n",
    "        scores_sigmoid.mean(), \n",
    "        scores_logreg.mean()\n",
    "    ],\n",
    "    'Std AUC': [\n",
    "        scores_linear.std(), \n",
    "        scores_poly.std(), \n",
    "        scores_rbf.std(), \n",
    "        scores_sigmoid.std(), \n",
    "        scores_logreg.std()\n",
    "    ]\n",
    "})\n",
    "\n",
    "resultados\n"
   ]
  },
  {
   "cell_type": "markdown",
   "id": "6022bd9f",
   "metadata": {},
   "source": [
    "### Interpretacion y conclusiones:\n",
    "- El modelo con mejor desempeño fue la Regresión Logística, con un AUC promedio de 0.9485, superando a todos los modelos de SVM tanto en precisión como en estabilidad. Esto indica que es altamente eficaz para discriminar entre clientes que harán default y los que no.\n",
    "\n",
    "- El SVC con kernel lineal también mostró buen rendimiento (AUC ≈ 0.9235), pero no superó a la regresión logística. Los kernels más complejos (poly, rbf, sigmoid) tuvieron menor desempeño, especialmente el kernel sigmoid, con un AUC significativamente bajo (≈ 0.729).\n",
    "\n",
    "- Dado que el problema es lineal y el dataset relativamente simple, la regresión logística es la mejor opción por su precisión, interpretabilidad y robustez."
   ]
  },
  {
   "attachments": {},
   "cell_type": "markdown",
   "id": "138473b9-3a81-43cb-83a5-a362e535b736",
   "metadata": {},
   "source": [
    "# Addendum\n",
    "\n",
    "Métricos disponibles para clasificación:\n",
    "- ‘accuracy’\n",
    "- ‘balanced_accuracy’\n",
    "- ‘top_k_accuracy’\n",
    "- ‘average_precision’\n",
    "- ‘neg_brier_score’\n",
    "- ‘f1’\n",
    "- ‘f1_micro’\n",
    "- ‘f1_macro’\n",
    "- ‘f1_weighted’\n",
    "- ‘f1_samples’\n",
    "- ‘neg_log_loss’\n",
    "- ‘precision’ etc.\n",
    "- ‘recall’ etc.\n",
    "- ‘jaccard’ etc.\n",
    "- ‘roc_auc’\n",
    "- ‘roc_auc_ovr’\n",
    "- ‘roc_auc_ovo’\n",
    "- ‘roc_auc_ovr_weighted’\n",
    "- ‘roc_auc_ovo_weighted’\n",
    "- ‘d2_log_loss_score’"
   ]
  },
  {
   "cell_type": "markdown",
   "id": "e68a114d-84df-46fc-b1fb-4729410bdb5f",
   "metadata": {},
   "source": [
    "# References\n",
    "\n",
    "[1] Shigeo Abe.Support Vector Machines for Pattern Classification,2Ed.Springer-Verlag London,2010. ISBN978-1-84996-097-7. URLhttps://www.springer.com/gp/book/9781849960977.\n",
    "\n",
    "[2] Johan A K Suykens, Tony Van Gestel, Jos De Brabanter, BartDe Moor, and Joos Vandewalle.Least Squares Support VectorMachines. World Scientific,2002. ISBN9789812381514. URLhttps://www.worldscientific.com/worldscibooks/10.1142/5089.\n",
    "\n",
    "[3] Bradley, A. P. (1997). The use of the area under the ROC curve in the evaluation of machine learning algorithms. Pattern recognition, 30(7), 1145-1159. URL https://www.researchgate.net/post/how_can_I_interpret_the_ROC_curve_result"
   ]
  }
 ],
 "metadata": {
  "kernelspec": {
   "display_name": "base",
   "language": "python",
   "name": "python3"
  },
  "language_info": {
   "codemirror_mode": {
    "name": "ipython",
    "version": 3
   },
   "file_extension": ".py",
   "mimetype": "text/x-python",
   "name": "python",
   "nbconvert_exporter": "python",
   "pygments_lexer": "ipython3",
   "version": "3.12.7"
  }
 },
 "nbformat": 4,
 "nbformat_minor": 5
}
