{
 "cells": [
  {
   "cell_type": "markdown",
   "id": "d75f48a5-e930-4288-b5bb-add8c738feee",
   "metadata": {},
   "source": [
    "# Laboratorio de regresión - 1"
   ]
  },
  {
   "cell_type": "markdown",
   "id": "4cbd4395-e390-485a-93ec-bece53d07374",
   "metadata": {},
   "source": [
    "## Regresión lineal simple"
   ]
  },
  {
   "cell_type": "markdown",
   "id": "dd3f2bda-0d7b-4428-898a-97d2c3fcc252",
   "metadata": {},
   "source": [
    "|                |                    |\n",
    ":----------------|--------------------|\n",
    "| **Nombre**     | André Esteban Vera |\n",
    "| **Fecha**      | 24/08/2025         |\n",
    "| **Expediente** | 745232             |"
   ]
  },
  {
   "cell_type": "markdown",
   "id": "e8e69833-9117-4f7b-a8ea-a0c86a032bf6",
   "metadata": {},
   "source": [
    "La regresión lineal es una herramienta útil para predecir una respuesta cuantitativa. Sirve como un punto de partida a pesar de que existen soluciones más modernas.\n",
    "\n",
    "Observa la siguiente gráfica."
   ]
  },
  {
   "cell_type": "code",
   "id": "c9c48963-09f8-4871-b253-76527337e5d9",
   "metadata": {
    "ExecuteTime": {
     "end_time": "2025-08-24T22:15:40.729056Z",
     "start_time": "2025-08-24T22:15:40.035494Z"
    }
   },
   "source": [
    "import matplotlib.pyplot as plt; import numpy as np\n",
    "%matplotlib inline\n",
    "np.random.seed(0)\n",
    "x = np.linspace(0, 20, 100); y = 2 + x + np.random.normal(0, 1, 100)\n",
    "plt.figure(); plt.xlabel(\"x\"); plt.ylabel(\"y\")\n",
    "plt.scatter(x, y); plt.grid()\n",
    "\n",
    "plt.show()\n",
    "\n",
    "from sklearn.linear_model import LinearRegression\n",
    "from sklearn.metrics import r2_score\n",
    "X = x.reshape(-1, 1)\n",
    "reg = LinearRegression().fit(X, y)\n",
    "R2 = reg.score(X, y)\n",
    "print(f\"R^2 = {R2}\")"
   ],
   "outputs": [
    {
     "data": {
      "text/plain": [
       "<Figure size 640x480 with 1 Axes>"
      ],
      "image/png": "[encoded data removed]"
     },
     "metadata": {},
     "output_type": "display_data"
    },
    {
     "name": "stdout",
     "output_type": "stream",
     "text": [
      "R^2 = 0.9703537814132045\n"
     ]
    }
   ],
   "execution_count": 6
  },
  {
   "cell_type": "markdown",
   "id": "5fc0f20b-a10e-452d-b926-0706cce2e0c2",
   "metadata": {},
   "source": [
    "**¿Hay alguna relación entre $y$ y $x$?**\n",
    "- Si, la nube de dispersión muestra una tendencia lineal positiva: conforme x aumenta, y tambien lo hace\n",
    "\n",
    "Nuestra primera meta debe ser determinar si hay evidencia en los datos de que haya una asociación entre estas variables.\n",
    "\n",
    "- **¿Por qué?**\n",
    "- Para saber que tan bueno es nuestro modelo y poder generar conclusiones y pruebas adecuadas\n",
    "\n",
    "- Si hubiera una asociación, **¿qué tan fuerte es?**\n",
    "- Podemos ver al sacar el coeficiente de determinacion que es bastante fuerte: 0.97"
   ]
  },
  {
   "cell_type": "markdown",
   "id": "75d8be97-9067-40b8-ab89-c542983142cd",
   "metadata": {},
   "source": [
    "## Regresión lineal simple"
   ]
  },
  {
   "cell_type": "markdown",
   "id": "2279e2f4-f92d-493e-8fce-6f989bc71d37",
   "metadata": {},
   "source": [
    "Un método sencillo para predecir una variable cuantitativa $Y$ dado un solo predictor $X$. Podemos escribir esta relación como:\n",
    "\n",
    "$$ Y \\approx \\beta_0 + \\beta_1 X$$\n"
   ]
  },
  {
   "cell_type": "markdown",
   "id": "f44d40b7-6ee8-422d-a79a-bd0d96521af7",
   "metadata": {},
   "source": [
    "A $\\beta_0$ y $\\beta_1$ se le conoce como los coeficientes o parámetros del modelo. Una vez que usamos los datos históricos para producir estimados $\\hat{\\beta_0}$ y $\\hat{\\beta_1}$, podemos predecir el resultado de la variable $y$ basándonos en $x$\n",
    "$$\\hat{y} = \\hat{\\beta_0} + \\hat{\\beta_1}x $$"
   ]
  },
  {
   "cell_type": "markdown",
   "id": "2eef8358-0558-4f9d-93ca-215b720467af",
   "metadata": {},
   "source": [
    "donde $\\hat{y}$ indica una predicción de $Y$ basado en $X = x$. (El símbolo $\\hat{ }$ se usa para hacer notar que es sólo una estimación de un parámetro desconocido)"
   ]
  },
  {
   "cell_type": "markdown",
   "id": "516dead8-51c2-414c-896f-ad6d091f81f3",
   "metadata": {},
   "source": [
    "### Estimando coeficientes"
   ]
  },
  {
   "cell_type": "markdown",
   "id": "e1615255-ea43-4c17-9b56-e5d19e936a80",
   "metadata": {},
   "source": [
    "$\\beta_0$ y $\\beta_1$ son desconocidos. Se deben estimar usando los datos antes de poder predecir. \n",
    "\n",
    "$ (x_1, y_1), (x_2, y_2), ..., (x_n, y_n) $ representa $n$ observaciones, cada una con datos medidos para $X$ y $Y$."
   ]
  },
  {
   "cell_type": "markdown",
   "id": "6aa809c0-5f63-417b-bc67-179f192ca954",
   "metadata": {},
   "source": [
    "Nuestros datos contienen 200 muestras en pares ordenados $(x_i, y_i)$. Nuestra meta actual es encontrar $\\hat{\\beta_0}$ y $\\hat{\\beta_1}$ tal que exista un modelo lineal que se ajuste bien a los datos ($y_i \\approx \\hat{\\beta_0} + \\hat{\\beta_1}x_i$  para $ i=1,...,n$).\n",
    "\n",
    "**¿Qué significa \"que se ajuste bien\"?**\n",
    "- Que la recta reproduce adecuadamente los datos.\n",
    "\n",
    "Observa las 3 propuestas de lineas para ajustar los puntos."
   ]
  },
  {
   "cell_type": "code",
   "id": "9068e9f3-94ec-4b03-8123-e9b6cfb342d6",
   "metadata": {
    "ExecuteTime": {
     "end_time": "2025-08-25T00:07:20.827179Z",
     "start_time": "2025-08-25T00:07:17.606471Z"
    }
   },
   "source": [
    "y_pred1 = 2*x; y_pred2 = -x + 2; y_pred3 = 6 + x\n",
    "plt.figure(); plt.xlabel(\"x\"); plt.ylabel(\"y\")\n",
    "plt.scatter(x, y); plt.grid()\n",
    "plt.plot(x, y_pred1, label=\"Propuesta 1\"); plt.plot(x, y_pred2, label=\"Propuesta 2\"); plt.plot(x, y_pred3, label=\"Propuesta 3\")\n",
    "plt.legend(loc=\"best\")\n",
    "plt.show()\n",
    "\n",
    "from sklearn.metrics import r2_score\n",
    "import pandas as pd\n",
    "R2_1 = r2_score(y, y_pred1)\n",
    "R2_2 = r2_score(y, y_pred2)\n",
    "R2_3 = r2_score(y, y_pred3)\n",
    "\n",
    "tabla_r2 = pd.DataFrame({\n",
    "    \"Propuesta\": [\"Propuesta 1\", \"Propuesta 2\", \"Propuesta 3\"],\n",
    "    \"R^2\": [R2_1, R2_2, R2_3]\n",
    "})\n",
    "print(tabla_r2)\n"
   ],
   "outputs": [
    {
     "data": {
      "text/plain": [
       "<Figure size 640x480 with 1 Axes>"
      ],
      "image/png": "[encoded data removed]"
     },
     "metadata": {},
     "output_type": "display_data"
    },
    {
     "name": "stdout",
     "output_type": "stream",
     "text": [
      "     Propuesta        R^2\n",
      "0  Propuesta 1  -1.913146\n",
      "1  Propuesta 2 -14.801045\n",
      "2  Propuesta 3   0.513666\n"
     ]
    }
   ],
   "execution_count": 8
  },
  {
   "cell_type": "markdown",
   "id": "12845e61-120c-46ba-8722-1ae82ca7a457",
   "metadata": {},
   "source": [
    "Claramente hay una línea que se ajusta mejor que las otras dos. ¿Cómo sabemos que esa línea es mejor que las otras?\n",
    "- Visualmente porque es la más cercana a la nube de dispersión de los datos y estadisticamente porque su R^2 es más cercano a 1 que el de las demás, y tambien porque su pendiente coincide con la tendencia de los datos reales por lo que produce el menor error (RSS)"
   ]
  },
  {
   "cell_type": "markdown",
   "id": "2cd4c1a5-92e4-45bb-8acc-a2fb3f4c9047",
   "metadata": {},
   "source": [
    "Hay muchas formas de medir el ajuste de una curva; la más común es usar el criterio de los mínimos cuadrados. Si $y_i \\approx \\hat{\\beta_0} + \\hat{\\beta_1}x_i$ es una predicción de $Y$ basada en el valor número $i$ de $X$, entonces definimos el error/residuo como $e_i = y_i - \\hat{y_i}$. Este residuo es la diferencia entre el valor observado y el valor estimado por nuestro modelo lineal. Definimos la suma de los residuos cuadrados (RSS) como:\n",
    "$$ \\text{RSS} = e_1^2 + e_2^2 + ... + e_n^2 $$"
   ]
  },
  {
   "cell_type": "markdown",
   "id": "43a1152b-ca2a-4e92-98b8-55bab53ff820",
   "metadata": {},
   "source": [
    "Utiliza `sklearn` para estimar los parámetros del modelo."
   ]
  },
  {
   "cell_type": "code",
   "id": "364ae2d2-62a1-44e4-b10a-3cb97bb3827c",
   "metadata": {
    "ExecuteTime": {
     "end_time": "2025-08-25T00:20:52.228476Z",
     "start_time": "2025-08-25T00:20:52.219389Z"
    }
   },
   "source": [
    "from sklearn.linear_model import LinearRegression\n",
    "\n",
    "X = x.reshape(-1, 1)\n",
    "reg = LinearRegression().fit(X, y)\n"
   ],
   "outputs": [],
   "execution_count": 9
  },
  {
   "cell_type": "code",
   "id": "05fcd080-b505-431c-98f8-84ade2f679d8",
   "metadata": {
    "ExecuteTime": {
     "end_time": "2025-08-25T00:21:18.627396Z",
     "start_time": "2025-08-25T00:21:18.617107Z"
    }
   },
   "source": [
    "b1 = reg.coef_[0]\n",
    "b0 = reg.intercept_\n",
    "print(f\"B0 (intercepto) = {b0}\")\n",
    "print(f\"B1 (pendiente)  = {b1}\")\n"
   ],
   "outputs": [
    {
     "name": "stdout",
     "output_type": "stream",
     "text": [
      "B0 (intercepto) = 2.208471447842209\n",
      "B1 (pendiente)  = 0.9851336567692277\n"
     ]
    }
   ],
   "execution_count": 10
  },
  {
   "cell_type": "code",
   "id": "b106ec45-afb4-4162-a919-1c64bb233006",
   "metadata": {
    "ExecuteTime": {
     "end_time": "2025-08-25T00:23:35.668739Z",
     "start_time": "2025-08-25T00:23:35.658525Z"
    }
   },
   "source": [
    "y_hat = reg.predict(X)\n",
    "y_hat[:5]"
   ],
   "outputs": [
    {
     "data": {
      "text/plain": [
       "array([2.20847145, 2.40748835, 2.60650525, 2.80552215, 3.00453905])"
      ]
     },
     "execution_count": 13,
     "metadata": {},
     "output_type": "execute_result"
    }
   ],
   "execution_count": 13
  },
  {
   "cell_type": "markdown",
   "id": "0fea0c1f-125f-484b-829e-34476085a2da",
   "metadata": {},
   "source": [
    "Al resolver el problema analíticamente se encuentra:\n",
    "\n",
    "$$ \\hat{\\beta_1} = \\frac{\\sum_{i=1}^n (x_i - \\bar{x})(y_i - \\bar{y})}{\\sum_{i=1}^n (x_i - \\bar{x})^2} $$\n",
    "\n",
    "$$ \\hat{\\beta_0} = \\bar{y} - \\hat{\\beta_1}\\bar{x} $$\n"
   ]
  },
  {
   "cell_type": "markdown",
   "id": "c5285808-fb71-45dc-9e49-891caac89c2c",
   "metadata": {},
   "source": [
    "Compara las estimaciones que encontraste con `sklearn` con las que se encuentran con la fórmula dada arriba ($\\bar{x}$ y $\\bar{y}$ son las medias muestrales)."
   ]
  },
  {
   "cell_type": "code",
   "id": "76020b10-5b96-428a-bea2-f42c7eb0040c",
   "metadata": {
    "ExecuteTime": {
     "end_time": "2025-08-25T00:26:10.990003Z",
     "start_time": "2025-08-25T00:26:10.981759Z"
    }
   },
   "source": [
    "x_bar = x.mean()\n",
    "y_bar = y.mean()\n",
    "num = ((x - x_bar) * (y - y_bar)).sum()\n",
    "den = ((x - x_bar) ** 2).sum()\n",
    "beta1_formula = num / den\n",
    "beta0_formula = y_bar - beta1_formula * x_bar\n",
    "print(f\"B0_formula = {beta0_formula}\")\n",
    "print(f\"B1_formula = {beta1_formula}\")\n"
   ],
   "outputs": [
    {
     "name": "stdout",
     "output_type": "stream",
     "text": [
      "B0_formula = 2.2084714478422054\n",
      "B1_formula = 0.985133656769228\n"
     ]
    }
   ],
   "execution_count": 14
  },
  {
   "cell_type": "code",
   "id": "7559c0f7-04af-4e76-98e5-cb8d7e1abaee",
   "metadata": {
    "ExecuteTime": {
     "end_time": "2025-08-25T00:28:12.048737Z",
     "start_time": "2025-08-25T00:28:12.043084Z"
    }
   },
   "source": [
    "print(f\"|B0_sklearn - B0_formula| = {abs(b0 - beta0_formula):.6e}\")\n",
    "print(f\"|B1_sklearn - B1_formula| = {abs(b1 - beta1_formula):.6e}\")\n"
   ],
   "outputs": [
    {
     "name": "stdout",
     "output_type": "stream",
     "text": [
      "|B0_sklearn - B0_formula| = 3.552714e-15\n",
      "|B1_sklearn - B1_formula| = 3.330669e-16\n"
     ]
    }
   ],
   "execution_count": 15
  },
  {
   "cell_type": "code",
   "id": "9389d631-e1f1-4ffd-831b-ec20850efe46",
   "metadata": {
    "ExecuteTime": {
     "end_time": "2025-08-25T00:29:20.330860Z",
     "start_time": "2025-08-25T00:29:20.322970Z"
    }
   },
   "source": [
    "y_hat_formula = beta0_formula + beta1_formula * x\n",
    "import numpy as np\n",
    "\n",
    "np.allclose(y_hat, y_hat_formula) # para ver si coincide\n"
   ],
   "outputs": [
    {
     "data": {
      "text/plain": [
       "True"
      ]
     },
     "execution_count": 16,
     "metadata": {},
     "output_type": "execute_result"
    }
   ],
   "execution_count": 16
  },
  {
   "cell_type": "markdown",
   "id": "4efae31a-3f7d-4cb2-aa1b-db97e6b3a385",
   "metadata": {},
   "source": [
    "Crea una gráfica donde se muestren las observaciones como una nube de puntos y la línea que ajustaste con regresión."
   ]
  },
  {
   "cell_type": "code",
   "id": "6be89691-3e50-4554-a4a9-5f454502307d",
   "metadata": {
    "ExecuteTime": {
     "end_time": "2025-08-25T00:30:53.163068Z",
     "start_time": "2025-08-25T00:30:52.888831Z"
    }
   },
   "source": [
    "import matplotlib.pyplot as plt\n",
    "\n",
    "plt.figure(figsize=(7, 5))\n",
    "plt.scatter(x, y, s=25, label=\"Datos\")\n",
    "plt.plot(x, y_hat, label=\"Recta ajustada\", linewidth=2)\n",
    "plt.xlabel(\"x\");\n",
    "plt.ylabel(\"y\");\n",
    "plt.title(\"Regresión lineal: datos y recta ajustada\")\n",
    "plt.grid(True);\n",
    "plt.legend();\n",
    "plt.show()\n"
   ],
   "outputs": [
    {
     "data": {
      "text/plain": [
       "<Figure size 700x500 with 1 Axes>"
      ],
      "image/png": "[encoded data removed]"
     },
     "metadata": {},
     "output_type": "display_data"
    }
   ],
   "execution_count": 17
  },
  {
   "cell_type": "code",
   "id": "0cde5303-8bfc-451e-bd6f-b5af357c010a",
   "metadata": {
    "ExecuteTime": {
     "end_time": "2025-08-25T00:31:24.838971Z",
     "start_time": "2025-08-25T00:31:24.813065Z"
    }
   },
   "source": [
    "import pandas as pd\n",
    "\n",
    "pd.DataFrame({\"x\": x, \"y\": y, \"y_hat\": y_hat}).head(10)\n"
   ],
   "outputs": [
    {
     "data": {
      "text/plain": [
       "          x         y     y_hat\n",
       "0  0.000000  3.764052  2.208471\n",
       "1  0.202020  2.602177  2.407488\n",
       "2  0.404040  3.382778  2.606505\n",
       "3  0.606061  4.846954  2.805522\n",
       "4  0.808081  4.675639  3.004539\n",
       "5  1.010101  2.032823  3.203556\n",
       "6  1.212121  4.162210  3.402573\n",
       "7  1.414141  3.262784  3.601590\n",
       "8  1.616162  3.512943  3.800607\n",
       "9  1.818182  4.228780  3.999624"
      ],
      "text/html": [
       "<div>\n",
       "<style scoped>\n",
       "    .dataframe tbody tr th:only-of-type {\n",
       "        vertical-align: middle;\n",
       "    }\n",
       "\n",
       "    .dataframe tbody tr th {\n",
       "        vertical-align: top;\n",
       "    }\n",
       "\n",
       "    .dataframe thead th {\n",
       "        text-align: right;\n",
       "    }\n",
       "</style>\n",
       "<table border=\"1\" class=\"dataframe\">\n",
       "  <thead>\n",
       "    <tr style=\"text-align: right;\">\n",
       "      <th></th>\n",
       "      <th>x</th>\n",
       "      <th>y</th>\n",
       "      <th>y_hat</th>\n",
       "    </tr>\n",
       "  </thead>\n",
       "  <tbody>\n",
       "    <tr>\n",
       "      <th>0</th>\n",
       "      <td>0.000000</td>\n",
       "      <td>3.764052</td>\n",
       "      <td>2.208471</td>\n",
       "    </tr>\n",
       "    <tr>\n",
       "      <th>1</th>\n",
       "      <td>0.202020</td>\n",
       "      <td>2.602177</td>\n",
       "      <td>2.407488</td>\n",
       "    </tr>\n",
       "    <tr>\n",
       "      <th>2</th>\n",
       "      <td>0.404040</td>\n",
       "      <td>3.382778</td>\n",
       "      <td>2.606505</td>\n",
       "    </tr>\n",
       "    <tr>\n",
       "      <th>3</th>\n",
       "      <td>0.606061</td>\n",
       "      <td>4.846954</td>\n",
       "      <td>2.805522</td>\n",
       "    </tr>\n",
       "    <tr>\n",
       "      <th>4</th>\n",
       "      <td>0.808081</td>\n",
       "      <td>4.675639</td>\n",
       "      <td>3.004539</td>\n",
       "    </tr>\n",
       "    <tr>\n",
       "      <th>5</th>\n",
       "      <td>1.010101</td>\n",
       "      <td>2.032823</td>\n",
       "      <td>3.203556</td>\n",
       "    </tr>\n",
       "    <tr>\n",
       "      <th>6</th>\n",
       "      <td>1.212121</td>\n",
       "      <td>4.162210</td>\n",
       "      <td>3.402573</td>\n",
       "    </tr>\n",
       "    <tr>\n",
       "      <th>7</th>\n",
       "      <td>1.414141</td>\n",
       "      <td>3.262784</td>\n",
       "      <td>3.601590</td>\n",
       "    </tr>\n",
       "    <tr>\n",
       "      <th>8</th>\n",
       "      <td>1.616162</td>\n",
       "      <td>3.512943</td>\n",
       "      <td>3.800607</td>\n",
       "    </tr>\n",
       "    <tr>\n",
       "      <th>9</th>\n",
       "      <td>1.818182</td>\n",
       "      <td>4.228780</td>\n",
       "      <td>3.999624</td>\n",
       "    </tr>\n",
       "  </tbody>\n",
       "</table>\n",
       "</div>"
      ]
     },
     "execution_count": 18,
     "metadata": {},
     "output_type": "execute_result"
    }
   ],
   "execution_count": 18
  },
  {
   "cell_type": "code",
   "id": "910710c8-c06e-458e-b95b-0b0a4d909d9e",
   "metadata": {},
   "source": [],
   "outputs": [],
   "execution_count": null
  },
  {
   "cell_type": "markdown",
   "id": "cf21c83f-baae-48d4-ba08-f06b9dffae8a",
   "metadata": {},
   "source": [
    "### Verificando la precisión del modelo"
   ]
  },
  {
   "cell_type": "markdown",
   "id": "17bf0d2b-0d6e-4054-abd3-e3733c30b5ec",
   "metadata": {},
   "source": [
    "¿Cómo medimos qué tan bueno es nuestro modelo para predecir?\n",
    "- RSE (Residual Standard Error)\n",
    "- $R^2$"
   ]
  },
  {
   "cell_type": "markdown",
   "id": "6fc98c08-3bd2-4d26-8b5c-858af1451323",
   "metadata": {},
   "source": [
    "#### $R^2$"
   ]
  },
  {
   "cell_type": "markdown",
   "id": "d8f339e0-d87c-4ced-8163-6ee602017ee1",
   "metadata": {},
   "source": [
    "El RSE se mide con unidades de $Y$, así que no siempre se puede saber cuál es un buen valor. Imagina que tienes un $Y$ con valores entre $-1$ y $1$, y que tienes otro $Y$ con valores entre $1'000,000$ y $100'000,000$. Los errores cuadrados van a ser mucho mayores en el segundo caso que en el primero, pero esto no significa que el modelo creado en el segundo caso sea malo.\n",
    "\n",
    "El estadístico $R^2$ es una medida de ajuste. Su valor es la proporción de la varianza sí explicada, así que siempre toma valores entre $0$ y $1$. Su fórmula es:\n",
    "\n",
    "$$ R^2 = \\frac{\\text{TSS} - \\text{RSS}}{\\text{TSS}} = 1 - \\frac{\\text{RSS}}{\\text{TSS}}$$\n",
    "$$ \\text{TSS} = \\sum_{i=1}^n (y_i - \\bar{y})^2$$"
   ]
  },
  {
   "cell_type": "markdown",
   "id": "5ea8b0d0-58f5-46fb-80f8-732c3470a538",
   "metadata": {},
   "source": [
    "TSS mide la varianza total de $Y$. RSS mide la varianza que queda sin explicarse después de la regresión. Entonces TSS-RSS mide la varianza que sí está explicada.\n",
    "\n",
    "$R^2$ mide la proporción de la varianza en $Y$ que puede ser explicada usando $X$.\n",
    "\n",
    "El estadístico $R^2$ se puede encontrar accediendo a la función `score` del objeto `LinearRegression` de `sklearn`.\n",
    "\n",
    "- **¿Cuánta varianza queda sin explicar?**"
   ]
  },
  {
   "cell_type": "code",
   "id": "4c883b5f-01bb-47b9-b221-42dd01cd6792",
   "metadata": {
    "ExecuteTime": {
     "end_time": "2025-08-25T00:33:10.228901Z",
     "start_time": "2025-08-25T00:33:10.219209Z"
    }
   },
   "source": [
    "import numpy as np\n",
    "\n",
    "n = len(y)\n",
    "rss = np.sum((y - y_hat) ** 2)\n",
    "rse = np.sqrt(rss / (n - 2))  # n-2 g.l. en regresión lineal simple\n",
    "print(f\"RSS = {rss}\")\n",
    "print(f\"RSE = {rse}\")\n"
   ],
   "outputs": [
    {
     "name": "stdout",
     "output_type": "stream",
     "text": [
      "RSS = 100.83108534686123\n",
      "RSE = 1.0143414740551526\n"
     ]
    }
   ],
   "execution_count": 19
  },
  {
   "cell_type": "code",
   "id": "c92cb1a4-98d0-410b-ab48-9ac9636421ff",
   "metadata": {
    "ExecuteTime": {
     "end_time": "2025-08-25T00:33:57.692992Z",
     "start_time": "2025-08-25T00:33:57.683947Z"
    }
   },
   "source": [
    "tss = np.sum((y - y.mean()) ** 2)\n",
    "r2_manual = 1 - rss / tss\n",
    "r2_sklearn = reg.score(X, y)\n",
    "print(f\"R^2 (manual)         = {r2_manual}\")\n",
    "print(f\"R^2 (sklearn .score) = {r2_sklearn:}\")"
   ],
   "outputs": [
    {
     "name": "stdout",
     "output_type": "stream",
     "text": [
      "R^2 (manual)         = 0.9703537814132045\n",
      "R^2 (sklearn .score) = 0.9703537814132045\n"
     ]
    }
   ],
   "execution_count": 20
  },
  {
   "cell_type": "code",
   "id": "eb1410d1-68f8-42c3-a2aa-377662ca80e3",
   "metadata": {
    "ExecuteTime": {
     "end_time": "2025-08-25T00:34:44.364033Z",
     "start_time": "2025-08-25T00:34:44.357357Z"
    }
   },
   "source": [
    "var_no_explicada = 1 - reg.score(X, y)\n",
    "print(f\"Varianza no explicada (1 - R^2) = {var_no_explicada}\")"
   ],
   "outputs": [
    {
     "name": "stdout",
     "output_type": "stream",
     "text": [
      "Varianza no explicada (1 - R^2) = 0.029646218586795503\n"
     ]
    }
   ],
   "execution_count": 21
  },
  {
   "cell_type": "markdown",
   "id": "ddea249b-9f3b-47d6-87dd-79867888d255",
   "metadata": {},
   "source": [
    "## Referencia\n",
    "\n",
    "James, G., Witten, D., Hastie, T., Tibshirani, R.,, Taylor, J. (2023). An Introduction to Statistical Learning with Applications in Python. Cham: Springer. ISBN: 978-3-031-38746-3"
   ]
  }
 ],
 "metadata": {
  "kernelspec": {
   "display_name": "Python [conda env:base] *",
   "language": "python",
   "name": "conda-base-py"
  },
  "language_info": {
   "codemirror_mode": {
    "name": "ipython",
    "version": 3
   },
   "file_extension": ".py",
   "mimetype": "text/x-python",
   "name": "python",
   "nbconvert_exporter": "python",
   "pygments_lexer": "ipython3",
   "version": "3.12.7"
  }
 },
 "nbformat": 4,
 "nbformat_minor": 5
}
